{
 "cells": [
  {
   "cell_type": "markdown",
   "metadata": {
    "id": "b6yXEYKnVRx3"
   },
   "source": [
    "## Engrgy Consumption forecasting with LSTM\n",
    "\n",
    "- In this project I have trained RNN model to predict the energy consumption by home appliences\n",
    "\n",
    "- The Dataset used in this project is available on UCI Machine learning libraby with following link \n",
    "https://archive.ics.uci.edu/ml/datasets/Appliances+energy+prediction\n",
    "\n",
    "- Dataset Description:\n",
    "\n",
    "1. Appliances, energy consumption by Home appliances in Wh\n",
    "2. lights, energy use of light fixtures in the house in Wh\n",
    "3. T1, Temperature in kitchen area, in Celsius\n",
    "4. RH_1, Humidity in kitchen area, in %\n",
    "5. T2, Temperature in living room area, in Celsius\n",
    "6. RH_2, Humidity in living room area, in %\n",
    "7. T3, Temperature in laundry room area\n",
    "8. RH_3, Humidity in laundry room area, in %\n",
    "9. T4, Temperature in office room, in Celsius\n",
    "10. RH_4, Humidity in office room, in %\n",
    "11. T5, Temperature in bathroom, in Celsius\n",
    "12. RH_5, Humidity in bathroom, in %\n",
    "13. T6, Temperature outside the building (north side), in Celsius\n",
    "14. RH_6, Humidity outside the building (north side), in %\n",
    "15. T7, Temperature in ironing room , in Celsius\n",
    "16. RH_7, Humidity in ironing room, in %\n",
    "17. T8, Temperature in teenager room 2, in Celsius\n",
    "18. RH_8, Humidity in teenager room 2, in %\n",
    "19. T9, Temperature in parents room, in Celsius\n",
    "20. RH_9, Humidity in parents room, in %\n",
    "21. To, Temperature outside (from Chievres weather station), in Celsius\n",
    "22. Pressure (from Chievres weather station), in mm Hg\n",
    "23. RH_out, Humidity outside (from Chievres weather station), in %\n",
    "24. Wind speed (from Chievres weather station), in m/s\n",
    "25. Visibility (from Chievres weather station), in km\n",
    "26. Tdewpoint (from Chievres weather station), Â°C\n",
    "27. rv1, Random variable 1, nondimensional\n",
    "28. rv2, Random variable 2, nondimensional"
   ]
  },
  {
   "cell_type": "markdown",
   "metadata": {
    "id": "puGEexd3kOQF"
   },
   "source": [
    "## 1. Importing Libraries"
   ]
  },
  {
   "cell_type": "code",
   "execution_count": 3,
   "metadata": {
    "id": "SzIM7xfFh-ZB"
   },
   "outputs": [],
   "source": [
    "import pandas as pd\n",
    "import numpy as np\n",
    "import seaborn as sns\n",
    "import matplotlib.pyplot as plt\n",
    "%matplotlib inline"
   ]
  },
  {
   "cell_type": "markdown",
   "metadata": {
    "id": "qso4Y_gcm5Uk"
   },
   "source": [
    "## 2. Importing Dataset"
   ]
  },
  {
   "cell_type": "code",
   "execution_count": 6,
   "metadata": {
    "id": "QpTCL9lci5Qo"
   },
   "outputs": [],
   "source": [
    "df = pd.read_csv('dataset - dataset.csv.csv')"
   ]
  },
  {
   "cell_type": "code",
   "execution_count": 8,
   "metadata": {
    "colab": {
     "base_uri": "https://localhost:8080/",
     "height": 779
    },
    "id": "BbSms7UTjIAY",
    "outputId": "a5f63a08-0531-4317-bcc6-9549c25fa753"
   },
   "outputs": [
    {
     "data": {
      "text/html": [
       "<div>\n",
       "<style scoped>\n",
       "    .dataframe tbody tr th:only-of-type {\n",
       "        vertical-align: middle;\n",
       "    }\n",
       "\n",
       "    .dataframe tbody tr th {\n",
       "        vertical-align: top;\n",
       "    }\n",
       "\n",
       "    .dataframe thead th {\n",
       "        text-align: right;\n",
       "    }\n",
       "</style>\n",
       "<table border=\"1\" class=\"dataframe\">\n",
       "  <thead>\n",
       "    <tr style=\"text-align: right;\">\n",
       "      <th></th>\n",
       "      <th>date</th>\n",
       "      <th>Appliances</th>\n",
       "      <th>lights</th>\n",
       "      <th>T1</th>\n",
       "      <th>RH_1</th>\n",
       "      <th>T2</th>\n",
       "      <th>RH_2</th>\n",
       "      <th>T3</th>\n",
       "      <th>RH_3</th>\n",
       "      <th>T4</th>\n",
       "      <th>...</th>\n",
       "      <th>T9</th>\n",
       "      <th>RH_9</th>\n",
       "      <th>T_out</th>\n",
       "      <th>Press_mm_hg</th>\n",
       "      <th>RH_out</th>\n",
       "      <th>Windspeed</th>\n",
       "      <th>Visibility</th>\n",
       "      <th>Tdewpoint</th>\n",
       "      <th>rv1</th>\n",
       "      <th>rv2</th>\n",
       "    </tr>\n",
       "  </thead>\n",
       "  <tbody>\n",
       "    <tr>\n",
       "      <th>0</th>\n",
       "      <td>11-01-2022 17:00</td>\n",
       "      <td>60</td>\n",
       "      <td>30</td>\n",
       "      <td>19.890000</td>\n",
       "      <td>47.596667</td>\n",
       "      <td>19.200000</td>\n",
       "      <td>44.790000</td>\n",
       "      <td>19.790000</td>\n",
       "      <td>44.730000</td>\n",
       "      <td>19.000000</td>\n",
       "      <td>...</td>\n",
       "      <td>17.033333</td>\n",
       "      <td>45.5300</td>\n",
       "      <td>6.60</td>\n",
       "      <td>733.5</td>\n",
       "      <td>92.000000</td>\n",
       "      <td>7.000000</td>\n",
       "      <td>63.000000</td>\n",
       "      <td>5.3</td>\n",
       "      <td>13.275433</td>\n",
       "      <td>13.275433</td>\n",
       "    </tr>\n",
       "    <tr>\n",
       "      <th>1</th>\n",
       "      <td>11-01-2022 17:10</td>\n",
       "      <td>60</td>\n",
       "      <td>30</td>\n",
       "      <td>19.890000</td>\n",
       "      <td>46.693333</td>\n",
       "      <td>19.200000</td>\n",
       "      <td>44.722500</td>\n",
       "      <td>19.790000</td>\n",
       "      <td>44.790000</td>\n",
       "      <td>19.000000</td>\n",
       "      <td>...</td>\n",
       "      <td>17.066667</td>\n",
       "      <td>45.5600</td>\n",
       "      <td>6.48</td>\n",
       "      <td>733.6</td>\n",
       "      <td>92.000000</td>\n",
       "      <td>6.666667</td>\n",
       "      <td>59.166667</td>\n",
       "      <td>5.2</td>\n",
       "      <td>18.606195</td>\n",
       "      <td>18.606195</td>\n",
       "    </tr>\n",
       "    <tr>\n",
       "      <th>2</th>\n",
       "      <td>11-01-2022 17:20</td>\n",
       "      <td>50</td>\n",
       "      <td>30</td>\n",
       "      <td>19.890000</td>\n",
       "      <td>46.300000</td>\n",
       "      <td>19.200000</td>\n",
       "      <td>44.626667</td>\n",
       "      <td>19.790000</td>\n",
       "      <td>44.933333</td>\n",
       "      <td>18.926667</td>\n",
       "      <td>...</td>\n",
       "      <td>17.000000</td>\n",
       "      <td>45.5000</td>\n",
       "      <td>6.37</td>\n",
       "      <td>733.7</td>\n",
       "      <td>92.000000</td>\n",
       "      <td>6.333333</td>\n",
       "      <td>55.333333</td>\n",
       "      <td>5.1</td>\n",
       "      <td>28.642668</td>\n",
       "      <td>28.642668</td>\n",
       "    </tr>\n",
       "    <tr>\n",
       "      <th>3</th>\n",
       "      <td>11-01-2022 17:30</td>\n",
       "      <td>50</td>\n",
       "      <td>40</td>\n",
       "      <td>19.890000</td>\n",
       "      <td>46.066667</td>\n",
       "      <td>19.200000</td>\n",
       "      <td>44.590000</td>\n",
       "      <td>19.790000</td>\n",
       "      <td>45.000000</td>\n",
       "      <td>18.890000</td>\n",
       "      <td>...</td>\n",
       "      <td>17.000000</td>\n",
       "      <td>45.4000</td>\n",
       "      <td>6.25</td>\n",
       "      <td>733.8</td>\n",
       "      <td>92.000000</td>\n",
       "      <td>6.000000</td>\n",
       "      <td>51.500000</td>\n",
       "      <td>5.0</td>\n",
       "      <td>45.410390</td>\n",
       "      <td>45.410390</td>\n",
       "    </tr>\n",
       "    <tr>\n",
       "      <th>4</th>\n",
       "      <td>11-01-2022 17:40</td>\n",
       "      <td>60</td>\n",
       "      <td>40</td>\n",
       "      <td>19.890000</td>\n",
       "      <td>46.333333</td>\n",
       "      <td>19.200000</td>\n",
       "      <td>44.530000</td>\n",
       "      <td>19.790000</td>\n",
       "      <td>45.000000</td>\n",
       "      <td>18.890000</td>\n",
       "      <td>...</td>\n",
       "      <td>17.000000</td>\n",
       "      <td>45.4000</td>\n",
       "      <td>6.13</td>\n",
       "      <td>733.9</td>\n",
       "      <td>92.000000</td>\n",
       "      <td>5.666667</td>\n",
       "      <td>47.666667</td>\n",
       "      <td>4.9</td>\n",
       "      <td>10.084097</td>\n",
       "      <td>10.084097</td>\n",
       "    </tr>\n",
       "    <tr>\n",
       "      <th>...</th>\n",
       "      <td>...</td>\n",
       "      <td>...</td>\n",
       "      <td>...</td>\n",
       "      <td>...</td>\n",
       "      <td>...</td>\n",
       "      <td>...</td>\n",
       "      <td>...</td>\n",
       "      <td>...</td>\n",
       "      <td>...</td>\n",
       "      <td>...</td>\n",
       "      <td>...</td>\n",
       "      <td>...</td>\n",
       "      <td>...</td>\n",
       "      <td>...</td>\n",
       "      <td>...</td>\n",
       "      <td>...</td>\n",
       "      <td>...</td>\n",
       "      <td>...</td>\n",
       "      <td>...</td>\n",
       "      <td>...</td>\n",
       "      <td>...</td>\n",
       "    </tr>\n",
       "    <tr>\n",
       "      <th>19730</th>\n",
       "      <td>27-05-2022 17:20</td>\n",
       "      <td>100</td>\n",
       "      <td>0</td>\n",
       "      <td>25.566667</td>\n",
       "      <td>46.560000</td>\n",
       "      <td>25.890000</td>\n",
       "      <td>42.025714</td>\n",
       "      <td>27.200000</td>\n",
       "      <td>41.163333</td>\n",
       "      <td>24.700000</td>\n",
       "      <td>...</td>\n",
       "      <td>23.200000</td>\n",
       "      <td>46.7900</td>\n",
       "      <td>22.70</td>\n",
       "      <td>755.2</td>\n",
       "      <td>55.666667</td>\n",
       "      <td>3.333333</td>\n",
       "      <td>23.666667</td>\n",
       "      <td>13.3</td>\n",
       "      <td>43.096812</td>\n",
       "      <td>43.096812</td>\n",
       "    </tr>\n",
       "    <tr>\n",
       "      <th>19731</th>\n",
       "      <td>27-05-2022 17:30</td>\n",
       "      <td>90</td>\n",
       "      <td>0</td>\n",
       "      <td>25.500000</td>\n",
       "      <td>46.500000</td>\n",
       "      <td>25.754000</td>\n",
       "      <td>42.080000</td>\n",
       "      <td>27.133333</td>\n",
       "      <td>41.223333</td>\n",
       "      <td>24.700000</td>\n",
       "      <td>...</td>\n",
       "      <td>23.200000</td>\n",
       "      <td>46.7900</td>\n",
       "      <td>22.60</td>\n",
       "      <td>755.2</td>\n",
       "      <td>56.000000</td>\n",
       "      <td>3.500000</td>\n",
       "      <td>24.500000</td>\n",
       "      <td>13.3</td>\n",
       "      <td>49.282940</td>\n",
       "      <td>49.282940</td>\n",
       "    </tr>\n",
       "    <tr>\n",
       "      <th>19732</th>\n",
       "      <td>27-05-2022 17:40</td>\n",
       "      <td>270</td>\n",
       "      <td>10</td>\n",
       "      <td>25.500000</td>\n",
       "      <td>46.596667</td>\n",
       "      <td>25.628571</td>\n",
       "      <td>42.768571</td>\n",
       "      <td>27.050000</td>\n",
       "      <td>41.690000</td>\n",
       "      <td>24.700000</td>\n",
       "      <td>...</td>\n",
       "      <td>23.200000</td>\n",
       "      <td>46.7900</td>\n",
       "      <td>22.50</td>\n",
       "      <td>755.2</td>\n",
       "      <td>56.333333</td>\n",
       "      <td>3.666667</td>\n",
       "      <td>25.333333</td>\n",
       "      <td>13.3</td>\n",
       "      <td>29.199117</td>\n",
       "      <td>29.199117</td>\n",
       "    </tr>\n",
       "    <tr>\n",
       "      <th>19733</th>\n",
       "      <td>27-05-2022 17:50</td>\n",
       "      <td>420</td>\n",
       "      <td>10</td>\n",
       "      <td>25.500000</td>\n",
       "      <td>46.990000</td>\n",
       "      <td>25.414000</td>\n",
       "      <td>43.036000</td>\n",
       "      <td>26.890000</td>\n",
       "      <td>41.290000</td>\n",
       "      <td>24.700000</td>\n",
       "      <td>...</td>\n",
       "      <td>23.200000</td>\n",
       "      <td>46.8175</td>\n",
       "      <td>22.30</td>\n",
       "      <td>755.2</td>\n",
       "      <td>56.666667</td>\n",
       "      <td>3.833333</td>\n",
       "      <td>26.166667</td>\n",
       "      <td>13.2</td>\n",
       "      <td>6.322784</td>\n",
       "      <td>6.322784</td>\n",
       "    </tr>\n",
       "    <tr>\n",
       "      <th>19734</th>\n",
       "      <td>27-05-2022 18:00</td>\n",
       "      <td>430</td>\n",
       "      <td>10</td>\n",
       "      <td>25.500000</td>\n",
       "      <td>46.600000</td>\n",
       "      <td>25.264286</td>\n",
       "      <td>42.971429</td>\n",
       "      <td>26.823333</td>\n",
       "      <td>41.156667</td>\n",
       "      <td>24.700000</td>\n",
       "      <td>...</td>\n",
       "      <td>23.200000</td>\n",
       "      <td>46.8450</td>\n",
       "      <td>22.20</td>\n",
       "      <td>755.2</td>\n",
       "      <td>57.000000</td>\n",
       "      <td>4.000000</td>\n",
       "      <td>27.000000</td>\n",
       "      <td>13.2</td>\n",
       "      <td>34.118851</td>\n",
       "      <td>34.118851</td>\n",
       "    </tr>\n",
       "  </tbody>\n",
       "</table>\n",
       "<p>19735 rows × 29 columns</p>\n",
       "</div>"
      ],
      "text/plain": [
       "                   date  Appliances  lights         T1       RH_1         T2  \\\n",
       "0      11-01-2022 17:00          60      30  19.890000  47.596667  19.200000   \n",
       "1      11-01-2022 17:10          60      30  19.890000  46.693333  19.200000   \n",
       "2      11-01-2022 17:20          50      30  19.890000  46.300000  19.200000   \n",
       "3      11-01-2022 17:30          50      40  19.890000  46.066667  19.200000   \n",
       "4      11-01-2022 17:40          60      40  19.890000  46.333333  19.200000   \n",
       "...                 ...         ...     ...        ...        ...        ...   \n",
       "19730  27-05-2022 17:20         100       0  25.566667  46.560000  25.890000   \n",
       "19731  27-05-2022 17:30          90       0  25.500000  46.500000  25.754000   \n",
       "19732  27-05-2022 17:40         270      10  25.500000  46.596667  25.628571   \n",
       "19733  27-05-2022 17:50         420      10  25.500000  46.990000  25.414000   \n",
       "19734  27-05-2022 18:00         430      10  25.500000  46.600000  25.264286   \n",
       "\n",
       "            RH_2         T3       RH_3         T4  ...         T9     RH_9  \\\n",
       "0      44.790000  19.790000  44.730000  19.000000  ...  17.033333  45.5300   \n",
       "1      44.722500  19.790000  44.790000  19.000000  ...  17.066667  45.5600   \n",
       "2      44.626667  19.790000  44.933333  18.926667  ...  17.000000  45.5000   \n",
       "3      44.590000  19.790000  45.000000  18.890000  ...  17.000000  45.4000   \n",
       "4      44.530000  19.790000  45.000000  18.890000  ...  17.000000  45.4000   \n",
       "...          ...        ...        ...        ...  ...        ...      ...   \n",
       "19730  42.025714  27.200000  41.163333  24.700000  ...  23.200000  46.7900   \n",
       "19731  42.080000  27.133333  41.223333  24.700000  ...  23.200000  46.7900   \n",
       "19732  42.768571  27.050000  41.690000  24.700000  ...  23.200000  46.7900   \n",
       "19733  43.036000  26.890000  41.290000  24.700000  ...  23.200000  46.8175   \n",
       "19734  42.971429  26.823333  41.156667  24.700000  ...  23.200000  46.8450   \n",
       "\n",
       "       T_out  Press_mm_hg     RH_out  Windspeed  Visibility  Tdewpoint  \\\n",
       "0       6.60        733.5  92.000000   7.000000   63.000000        5.3   \n",
       "1       6.48        733.6  92.000000   6.666667   59.166667        5.2   \n",
       "2       6.37        733.7  92.000000   6.333333   55.333333        5.1   \n",
       "3       6.25        733.8  92.000000   6.000000   51.500000        5.0   \n",
       "4       6.13        733.9  92.000000   5.666667   47.666667        4.9   \n",
       "...      ...          ...        ...        ...         ...        ...   \n",
       "19730  22.70        755.2  55.666667   3.333333   23.666667       13.3   \n",
       "19731  22.60        755.2  56.000000   3.500000   24.500000       13.3   \n",
       "19732  22.50        755.2  56.333333   3.666667   25.333333       13.3   \n",
       "19733  22.30        755.2  56.666667   3.833333   26.166667       13.2   \n",
       "19734  22.20        755.2  57.000000   4.000000   27.000000       13.2   \n",
       "\n",
       "             rv1        rv2  \n",
       "0      13.275433  13.275433  \n",
       "1      18.606195  18.606195  \n",
       "2      28.642668  28.642668  \n",
       "3      45.410390  45.410390  \n",
       "4      10.084097  10.084097  \n",
       "...          ...        ...  \n",
       "19730  43.096812  43.096812  \n",
       "19731  49.282940  49.282940  \n",
       "19732  29.199117  29.199117  \n",
       "19733   6.322784   6.322784  \n",
       "19734  34.118851  34.118851  \n",
       "\n",
       "[19735 rows x 29 columns]"
      ]
     },
     "execution_count": 8,
     "metadata": {},
     "output_type": "execute_result"
    }
   ],
   "source": [
    "df"
   ]
  },
  {
   "cell_type": "markdown",
   "metadata": {
    "id": "Zbrlr4oLnWm9"
   },
   "source": [
    "## 3.Exploratory Data Analysis"
   ]
  },
  {
   "cell_type": "code",
   "execution_count": 11,
   "metadata": {
    "id": "1Cn92txojPs6"
   },
   "outputs": [],
   "source": [
    "df['date'] = pd.to_datetime(df['date'], format=\"%d-%m-%Y %H:%M\", errors='coerce')\n"
   ]
  },
  {
   "cell_type": "markdown",
   "metadata": {
    "id": "yFoYdZ9EndIg"
   },
   "source": [
    "**3.1 Checking Correlation between independent and dependent variables**"
   ]
  },
  {
   "cell_type": "code",
   "execution_count": 14,
   "metadata": {
    "colab": {
     "base_uri": "https://localhost:8080/",
     "height": 654
    },
    "id": "-b7kOOjujUJj",
    "outputId": "e5da0f29-6187-473e-fb21-afa717a9e150"
   },
   "outputs": [
    {
     "data": {
      "image/png": "[encoded data removed]",
      "text/plain": [
       "<Figure size 1500x1000 with 2 Axes>"
      ]
     },
     "metadata": {},
     "output_type": "display_data"
    }
   ],
   "source": [
    "plt.figure(figsize=(15,10))\n",
    "sns.heatmap(df.corr(),cmap='coolwarm')\n",
    "plt.show()"
   ]
  },
  {
   "cell_type": "markdown",
   "metadata": {
    "id": "SH1UmN5jnxgZ"
   },
   "source": [
    "**Observation**\n",
    "1. Temperature and Humidity values are highly correlated with each other respectively\n",
    "\n",
    "2. Appliance value has neutral relation with other variables\n",
    "\n"
   ]
  },
  {
   "cell_type": "markdown",
   "metadata": {
    "id": "M0x8O3kPoY-N"
   },
   "source": [
    "**3.2 Checking Energy consumption with respect to time**"
   ]
  },
  {
   "cell_type": "code",
   "execution_count": 18,
   "metadata": {
    "colab": {
     "base_uri": "https://localhost:8080/",
     "height": 623
    },
    "id": "RKRJ9LiOjXFA",
    "outputId": "b0ba75c7-9271-4e45-8ef7-5bd1d2acf6f2"
   },
   "outputs": [
    {
     "data": {
      "image/png": "[encoded data removed]",
      "text/plain": [
       "<Figure size 1800x1200 with 1 Axes>"
      ]
     },
     "metadata": {},
     "output_type": "display_data"
    }
   ],
   "source": [
    "plt.figure(figsize=(18,12))\n",
    "plt.plot(df.date,df.Appliances)\n",
    "plt.show()"
   ]
  },
  {
   "cell_type": "markdown",
   "metadata": {
    "id": "fHopQOWhoihE"
   },
   "source": [
    "**Observation**\n",
    "\n",
    "- There is seasonality in energy consumption with respect to time.\n",
    " \n",
    "- Energy consumption shows periodic rise in value  "
   ]
  },
  {
   "cell_type": "markdown",
   "metadata": {
    "id": "MdErPnnypCY-"
   },
   "source": [
    "## 4.Data Preprocessing"
   ]
  },
  {
   "cell_type": "markdown",
   "metadata": {
    "id": "1Vabid9JpIQd"
   },
   "source": [
    "**4.1 Defining dataframe with selective variables which don't have high correlation with each other**"
   ]
  },
  {
   "cell_type": "code",
   "execution_count": 23,
   "metadata": {
    "colab": {
     "base_uri": "https://localhost:8080/",
     "height": 204
    },
    "id": "IJgoH05pjcaB",
    "outputId": "51dff6e0-4026-4f82-daba-3b3c21d5a7b0"
   },
   "outputs": [
    {
     "data": {
      "text/html": [
       "<div>\n",
       "<style scoped>\n",
       "    .dataframe tbody tr th:only-of-type {\n",
       "        vertical-align: middle;\n",
       "    }\n",
       "\n",
       "    .dataframe tbody tr th {\n",
       "        vertical-align: top;\n",
       "    }\n",
       "\n",
       "    .dataframe thead th {\n",
       "        text-align: right;\n",
       "    }\n",
       "</style>\n",
       "<table border=\"1\" class=\"dataframe\">\n",
       "  <thead>\n",
       "    <tr style=\"text-align: right;\">\n",
       "      <th></th>\n",
       "      <th>Appliances</th>\n",
       "      <th>T1</th>\n",
       "      <th>RH_1</th>\n",
       "      <th>Press_mm_hg</th>\n",
       "      <th>RH_out</th>\n",
       "      <th>Windspeed</th>\n",
       "    </tr>\n",
       "  </thead>\n",
       "  <tbody>\n",
       "    <tr>\n",
       "      <th>0</th>\n",
       "      <td>60</td>\n",
       "      <td>19.89</td>\n",
       "      <td>47.596667</td>\n",
       "      <td>733.5</td>\n",
       "      <td>92.0</td>\n",
       "      <td>7.000000</td>\n",
       "    </tr>\n",
       "    <tr>\n",
       "      <th>1</th>\n",
       "      <td>60</td>\n",
       "      <td>19.89</td>\n",
       "      <td>46.693333</td>\n",
       "      <td>733.6</td>\n",
       "      <td>92.0</td>\n",
       "      <td>6.666667</td>\n",
       "    </tr>\n",
       "    <tr>\n",
       "      <th>2</th>\n",
       "      <td>50</td>\n",
       "      <td>19.89</td>\n",
       "      <td>46.300000</td>\n",
       "      <td>733.7</td>\n",
       "      <td>92.0</td>\n",
       "      <td>6.333333</td>\n",
       "    </tr>\n",
       "    <tr>\n",
       "      <th>3</th>\n",
       "      <td>50</td>\n",
       "      <td>19.89</td>\n",
       "      <td>46.066667</td>\n",
       "      <td>733.8</td>\n",
       "      <td>92.0</td>\n",
       "      <td>6.000000</td>\n",
       "    </tr>\n",
       "    <tr>\n",
       "      <th>4</th>\n",
       "      <td>60</td>\n",
       "      <td>19.89</td>\n",
       "      <td>46.333333</td>\n",
       "      <td>733.9</td>\n",
       "      <td>92.0</td>\n",
       "      <td>5.666667</td>\n",
       "    </tr>\n",
       "  </tbody>\n",
       "</table>\n",
       "</div>"
      ],
      "text/plain": [
       "   Appliances     T1       RH_1  Press_mm_hg  RH_out  Windspeed\n",
       "0          60  19.89  47.596667        733.5    92.0   7.000000\n",
       "1          60  19.89  46.693333        733.6    92.0   6.666667\n",
       "2          50  19.89  46.300000        733.7    92.0   6.333333\n",
       "3          50  19.89  46.066667        733.8    92.0   6.000000\n",
       "4          60  19.89  46.333333        733.9    92.0   5.666667"
      ]
     },
     "execution_count": 23,
     "metadata": {},
     "output_type": "execute_result"
    }
   ],
   "source": [
    "df1 = df[['Appliances','T1', 'RH_1','Press_mm_hg', 'RH_out', 'Windspeed']]\n",
    "df1.head()"
   ]
  },
  {
   "cell_type": "markdown",
   "metadata": {
    "id": "rcOaU71ppqpS"
   },
   "source": [
    "**4.2 Scalling Datapoints with MinMaxScaler**"
   ]
  },
  {
   "cell_type": "code",
   "execution_count": 26,
   "metadata": {
    "id": "bCsltMscjhYl"
   },
   "outputs": [],
   "source": [
    "from sklearn.preprocessing import MinMaxScaler\n",
    "sc = MinMaxScaler()"
   ]
  },
  {
   "cell_type": "code",
   "execution_count": 28,
   "metadata": {
    "colab": {
     "base_uri": "https://localhost:8080/"
    },
    "id": "qbqkxT04jnR8",
    "outputId": "dc6cc1cc-58a0-480c-f3d6-371f44cf6f5e"
   },
   "outputs": [
    {
     "data": {
      "text/plain": [
       "array([[0.04672897, 0.32734952, 0.56618659, 0.09767442, 0.89473684,\n",
       "        0.5       ],\n",
       "       [0.04672897, 0.32734952, 0.54132648, 0.1       , 0.89473684,\n",
       "        0.47619048],\n",
       "       [0.03738318, 0.32734952, 0.53050179, 0.10232558, 0.89473684,\n",
       "        0.45238095],\n",
       "       ...,\n",
       "       [0.24299065, 0.91974657, 0.53866618, 0.60232558, 0.4254386 ,\n",
       "        0.26190476],\n",
       "       [0.38317757, 0.91974657, 0.54949087, 0.60232558, 0.42982456,\n",
       "        0.27380952],\n",
       "       [0.39252336, 0.91974657, 0.53875791, 0.60232558, 0.43421053,\n",
       "        0.28571429]])"
      ]
     },
     "execution_count": 28,
     "metadata": {},
     "output_type": "execute_result"
    }
   ],
   "source": [
    "df1 = sc.fit_transform(df1)\n",
    "df1"
   ]
  },
  {
   "cell_type": "markdown",
   "metadata": {
    "id": "J6XQz1MGp8qc"
   },
   "source": [
    "**4.2 Defining Independent and Target Variable**"
   ]
  },
  {
   "cell_type": "code",
   "execution_count": 31,
   "metadata": {
    "id": "1L8NK1Vijpma"
   },
   "outputs": [],
   "source": [
    "X = df1\n",
    "y = df1[:,0]"
   ]
  },
  {
   "cell_type": "markdown",
   "metadata": {
    "id": "YM2905ouq4Dt"
   },
   "source": [
    "**4.3 Dividing the dataset into Training and Testing Dataset**"
   ]
  },
  {
   "cell_type": "code",
   "execution_count": 34,
   "metadata": {
    "id": "FDANM9tdjuO4"
   },
   "outputs": [],
   "source": [
    "from sklearn.model_selection import train_test_split\n",
    "X_train, X_test, y_train, y_test = train_test_split(X, y, test_size=0.3, random_state=42, shuffle = False)"
   ]
  },
  {
   "cell_type": "code",
   "execution_count": 36,
   "metadata": {
    "colab": {
     "base_uri": "https://localhost:8080/"
    },
    "id": "WCGzrlOvRFvv",
    "outputId": "982744a6-49e3-4636-87e4-63a325797dc2"
   },
   "outputs": [
    {
     "data": {
      "text/plain": [
       "(13814, 6)"
      ]
     },
     "execution_count": 36,
     "metadata": {},
     "output_type": "execute_result"
    }
   ],
   "source": [
    "X_train.shape"
   ]
  },
  {
   "cell_type": "code",
   "execution_count": 38,
   "metadata": {
    "colab": {
     "base_uri": "https://localhost:8080/"
    },
    "id": "tBXxbfupVR8X",
    "outputId": "67e31014-3f64-4b7b-81b3-727ebcf89544"
   },
   "outputs": [
    {
     "data": {
      "text/plain": [
       "(5921, 6)"
      ]
     },
     "execution_count": 38,
     "metadata": {},
     "output_type": "execute_result"
    }
   ],
   "source": [
    "X_test.shape"
   ]
  },
  {
   "cell_type": "markdown",
   "metadata": {
    "id": "EAvyQNhIr8RV"
   },
   "source": [
    " ## 5.Creating a data structure "
   ]
  },
  {
   "cell_type": "markdown",
   "metadata": {
    "id": "_vtEXKnrsSmi"
   },
   "source": [
    "**5.1 Importing TimeseriesGenerator**"
   ]
  },
  {
   "cell_type": "code",
   "execution_count": 42,
   "metadata": {},
   "outputs": [
    {
     "name": "stdout",
     "output_type": "stream",
     "text": [
      "WARNING:tensorflow:From C:\\Users\\cialg\\AppData\\Local\\Temp\\ipykernel_25656\\1040855161.py:2: The name tf.logging.set_verbosity is deprecated. Please use tf.compat.v1.logging.set_verbosity instead.\n",
      "\n"
     ]
    }
   ],
   "source": [
    "import tensorflow as tf\n",
    "tf.compat.v1.logging.set_verbosity(tf.compat.v1.logging.ERROR)\n"
   ]
  },
  {
   "cell_type": "markdown",
   "metadata": {
    "id": "Iz-lbEhssU97"
   },
   "source": [
    "**5.2 Using 280 Time steps with single sampling rate to prepare data structure**"
   ]
  },
  {
   "cell_type": "code",
   "execution_count": 45,
   "metadata": {
    "id": "1b3U8MC3WERC"
   },
   "outputs": [],
   "source": [
    "Time_stamps = 280\n",
    "features = 6"
   ]
  },
  {
   "cell_type": "code",
   "execution_count": 50,
   "metadata": {},
   "outputs": [],
   "source": [
    "from tensorflow.keras.preprocessing.sequence import TimeseriesGenerator\n"
   ]
  },
  {
   "cell_type": "code",
   "execution_count": 52,
   "metadata": {
    "id": "sTdicnqij0S5"
   },
   "outputs": [],
   "source": [
    "Train_set = TimeseriesGenerator(X_train, y_train,\n",
    "                                length=Time_stamps, sampling_rate=1,\n",
    "                                batch_size=32)"
   ]
  },
  {
   "cell_type": "code",
   "execution_count": 56,
   "metadata": {
    "id": "Rrf1i-Cyj3F8"
   },
   "outputs": [],
   "source": [
    "Test_set = TimeseriesGenerator(X_test, y_test,\n",
    "                               length=Time_stamps, sampling_rate=1,\n",
    "                               batch_size=32)"
   ]
  },
  {
   "cell_type": "markdown",
   "metadata": {
    "id": "TjVNytFlsvfd"
   },
   "source": [
    " ## 6.Building and Training the RNN"
   ]
  },
  {
   "cell_type": "markdown",
   "metadata": {
    "id": "aFFaKsgrs4cH"
   },
   "source": [
    "**6.1 Importing the Keras libraries and packages**"
   ]
  },
  {
   "cell_type": "code",
   "execution_count": 60,
   "metadata": {
    "id": "f7jWLvEvj7uF"
   },
   "outputs": [
    {
     "name": "stdout",
     "output_type": "stream",
     "text": [
      "Name: tensorflow\n",
      "Version: 2.17.0\n",
      "Summary: TensorFlow is an open source machine learning framework for everyone.\n",
      "Home-page: https://www.tensorflow.org/\n",
      "Author: Google Inc.\n",
      "Author-email: packages@tensorflow.org\n",
      "License: Apache 2.0\n",
      "Location: C:\\Users\\cialg\\anaconda3\\Lib\\site-packages\n",
      "Requires: tensorflow-intel\n",
      "Required-by: \n",
      "Note: you may need to restart the kernel to use updated packages.\n"
     ]
    }
   ],
   "source": [
    "pip show tensorflow\n"
   ]
  },
  {
   "cell_type": "markdown",
   "metadata": {
    "id": "tMJMNkPBtCbb"
   },
   "source": [
    "**6.2 Adding the LSTM layers and some Dropout regularisation**"
   ]
  },
  {
   "cell_type": "code",
   "execution_count": 76,
   "metadata": {},
   "outputs": [],
   "source": [
    "from tensorflow.keras.models import Sequential\n",
    "from tensorflow.keras.layers import LSTM, Dropout, Dense"
   ]
  },
  {
   "cell_type": "code",
   "execution_count": 78,
   "metadata": {
    "id": "euVgq7-ikDdJ"
   },
   "outputs": [
    {
     "name": "stderr",
     "output_type": "stream",
     "text": [
      "C:\\Users\\cialg\\anaconda3\\Lib\\site-packages\\keras\\src\\layers\\rnn\\rnn.py:204: UserWarning: Do not pass an `input_shape`/`input_dim` argument to a layer. When using Sequential models, prefer using an `Input(shape)` object as the first layer in the model instead.\n",
      "  super().__init__(**kwargs)\n"
     ]
    }
   ],
   "source": [
    "## first layer of lstm\n",
    "model = Sequential()\n",
    "model.add(LSTM(130,input_shape = (Time_stamps, features),return_sequences= True))\n",
    "model.add(Dropout(0.2))\n",
    "\n",
    "## Second layer of lstm\n",
    "model.add(LSTM(130,return_sequences= True))\n",
    "model.add(Dropout(0.2))\n",
    "\n",
    "## Third layer of lstm\n",
    "model.add(LSTM(130,return_sequences= True))\n",
    "model.add(Dropout(0.2))\n",
    "\n",
    "## forth layer of lstm\n",
    "model.add(LSTM(130))\n",
    "model.add(Dropout(0.2))\n",
    "\n",
    "model.add(Dense(1))\n",
    "\n"
   ]
  },
  {
   "cell_type": "code",
   "execution_count": 80,
   "metadata": {
    "colab": {
     "base_uri": "https://localhost:8080/"
    },
    "id": "OkyWrjTkK1Pf",
    "outputId": "b86184e5-5157-4e36-ece7-a05378e38a76"
   },
   "outputs": [
    {
     "data": {
      "text/html": [
       "<pre style=\"white-space:pre;overflow-x:auto;line-height:normal;font-family:Menlo,'DejaVu Sans Mono',consolas,'Courier New',monospace\"><span style=\"font-weight: bold\">Model: \"sequential_1\"</span>\n",
       "</pre>\n"
      ],
      "text/plain": [
       "\u001b[1mModel: \"sequential_1\"\u001b[0m\n"
      ]
     },
     "metadata": {},
     "output_type": "display_data"
    },
    {
     "data": {
      "text/html": [
       "<pre style=\"white-space:pre;overflow-x:auto;line-height:normal;font-family:Menlo,'DejaVu Sans Mono',consolas,'Courier New',monospace\">┏━━━━━━━━━━━━━━━━━━━━━━━━━━━━━━━━━┳━━━━━━━━━━━━━━━━━━━━━━━━┳━━━━━━━━━━━━━━━┓\n",
       "┃<span style=\"font-weight: bold\"> Layer (type)                    </span>┃<span style=\"font-weight: bold\"> Output Shape           </span>┃<span style=\"font-weight: bold\">       Param # </span>┃\n",
       "┡━━━━━━━━━━━━━━━━━━━━━━━━━━━━━━━━━╇━━━━━━━━━━━━━━━━━━━━━━━━╇━━━━━━━━━━━━━━━┩\n",
       "│ lstm (<span style=\"color: #0087ff; text-decoration-color: #0087ff\">LSTM</span>)                     │ (<span style=\"color: #00d7ff; text-decoration-color: #00d7ff\">None</span>, <span style=\"color: #00af00; text-decoration-color: #00af00\">280</span>, <span style=\"color: #00af00; text-decoration-color: #00af00\">130</span>)       │        <span style=\"color: #00af00; text-decoration-color: #00af00\">71,240</span> │\n",
       "├─────────────────────────────────┼────────────────────────┼───────────────┤\n",
       "│ dropout (<span style=\"color: #0087ff; text-decoration-color: #0087ff\">Dropout</span>)               │ (<span style=\"color: #00d7ff; text-decoration-color: #00d7ff\">None</span>, <span style=\"color: #00af00; text-decoration-color: #00af00\">280</span>, <span style=\"color: #00af00; text-decoration-color: #00af00\">130</span>)       │             <span style=\"color: #00af00; text-decoration-color: #00af00\">0</span> │\n",
       "├─────────────────────────────────┼────────────────────────┼───────────────┤\n",
       "│ lstm_1 (<span style=\"color: #0087ff; text-decoration-color: #0087ff\">LSTM</span>)                   │ (<span style=\"color: #00d7ff; text-decoration-color: #00d7ff\">None</span>, <span style=\"color: #00af00; text-decoration-color: #00af00\">280</span>, <span style=\"color: #00af00; text-decoration-color: #00af00\">130</span>)       │       <span style=\"color: #00af00; text-decoration-color: #00af00\">135,720</span> │\n",
       "├─────────────────────────────────┼────────────────────────┼───────────────┤\n",
       "│ dropout_1 (<span style=\"color: #0087ff; text-decoration-color: #0087ff\">Dropout</span>)             │ (<span style=\"color: #00d7ff; text-decoration-color: #00d7ff\">None</span>, <span style=\"color: #00af00; text-decoration-color: #00af00\">280</span>, <span style=\"color: #00af00; text-decoration-color: #00af00\">130</span>)       │             <span style=\"color: #00af00; text-decoration-color: #00af00\">0</span> │\n",
       "├─────────────────────────────────┼────────────────────────┼───────────────┤\n",
       "│ lstm_2 (<span style=\"color: #0087ff; text-decoration-color: #0087ff\">LSTM</span>)                   │ (<span style=\"color: #00d7ff; text-decoration-color: #00d7ff\">None</span>, <span style=\"color: #00af00; text-decoration-color: #00af00\">280</span>, <span style=\"color: #00af00; text-decoration-color: #00af00\">130</span>)       │       <span style=\"color: #00af00; text-decoration-color: #00af00\">135,720</span> │\n",
       "├─────────────────────────────────┼────────────────────────┼───────────────┤\n",
       "│ dropout_2 (<span style=\"color: #0087ff; text-decoration-color: #0087ff\">Dropout</span>)             │ (<span style=\"color: #00d7ff; text-decoration-color: #00d7ff\">None</span>, <span style=\"color: #00af00; text-decoration-color: #00af00\">280</span>, <span style=\"color: #00af00; text-decoration-color: #00af00\">130</span>)       │             <span style=\"color: #00af00; text-decoration-color: #00af00\">0</span> │\n",
       "├─────────────────────────────────┼────────────────────────┼───────────────┤\n",
       "│ lstm_3 (<span style=\"color: #0087ff; text-decoration-color: #0087ff\">LSTM</span>)                   │ (<span style=\"color: #00d7ff; text-decoration-color: #00d7ff\">None</span>, <span style=\"color: #00af00; text-decoration-color: #00af00\">130</span>)            │       <span style=\"color: #00af00; text-decoration-color: #00af00\">135,720</span> │\n",
       "├─────────────────────────────────┼────────────────────────┼───────────────┤\n",
       "│ dropout_3 (<span style=\"color: #0087ff; text-decoration-color: #0087ff\">Dropout</span>)             │ (<span style=\"color: #00d7ff; text-decoration-color: #00d7ff\">None</span>, <span style=\"color: #00af00; text-decoration-color: #00af00\">130</span>)            │             <span style=\"color: #00af00; text-decoration-color: #00af00\">0</span> │\n",
       "├─────────────────────────────────┼────────────────────────┼───────────────┤\n",
       "│ dense (<span style=\"color: #0087ff; text-decoration-color: #0087ff\">Dense</span>)                   │ (<span style=\"color: #00d7ff; text-decoration-color: #00d7ff\">None</span>, <span style=\"color: #00af00; text-decoration-color: #00af00\">1</span>)              │           <span style=\"color: #00af00; text-decoration-color: #00af00\">131</span> │\n",
       "└─────────────────────────────────┴────────────────────────┴───────────────┘\n",
       "</pre>\n"
      ],
      "text/plain": [
       "┏━━━━━━━━━━━━━━━━━━━━━━━━━━━━━━━━━┳━━━━━━━━━━━━━━━━━━━━━━━━┳━━━━━━━━━━━━━━━┓\n",
       "┃\u001b[1m \u001b[0m\u001b[1mLayer (type)                   \u001b[0m\u001b[1m \u001b[0m┃\u001b[1m \u001b[0m\u001b[1mOutput Shape          \u001b[0m\u001b[1m \u001b[0m┃\u001b[1m \u001b[0m\u001b[1m      Param #\u001b[0m\u001b[1m \u001b[0m┃\n",
       "┡━━━━━━━━━━━━━━━━━━━━━━━━━━━━━━━━━╇━━━━━━━━━━━━━━━━━━━━━━━━╇━━━━━━━━━━━━━━━┩\n",
       "│ lstm (\u001b[38;5;33mLSTM\u001b[0m)                     │ (\u001b[38;5;45mNone\u001b[0m, \u001b[38;5;34m280\u001b[0m, \u001b[38;5;34m130\u001b[0m)       │        \u001b[38;5;34m71,240\u001b[0m │\n",
       "├─────────────────────────────────┼────────────────────────┼───────────────┤\n",
       "│ dropout (\u001b[38;5;33mDropout\u001b[0m)               │ (\u001b[38;5;45mNone\u001b[0m, \u001b[38;5;34m280\u001b[0m, \u001b[38;5;34m130\u001b[0m)       │             \u001b[38;5;34m0\u001b[0m │\n",
       "├─────────────────────────────────┼────────────────────────┼───────────────┤\n",
       "│ lstm_1 (\u001b[38;5;33mLSTM\u001b[0m)                   │ (\u001b[38;5;45mNone\u001b[0m, \u001b[38;5;34m280\u001b[0m, \u001b[38;5;34m130\u001b[0m)       │       \u001b[38;5;34m135,720\u001b[0m │\n",
       "├─────────────────────────────────┼────────────────────────┼───────────────┤\n",
       "│ dropout_1 (\u001b[38;5;33mDropout\u001b[0m)             │ (\u001b[38;5;45mNone\u001b[0m, \u001b[38;5;34m280\u001b[0m, \u001b[38;5;34m130\u001b[0m)       │             \u001b[38;5;34m0\u001b[0m │\n",
       "├─────────────────────────────────┼────────────────────────┼───────────────┤\n",
       "│ lstm_2 (\u001b[38;5;33mLSTM\u001b[0m)                   │ (\u001b[38;5;45mNone\u001b[0m, \u001b[38;5;34m280\u001b[0m, \u001b[38;5;34m130\u001b[0m)       │       \u001b[38;5;34m135,720\u001b[0m │\n",
       "├─────────────────────────────────┼────────────────────────┼───────────────┤\n",
       "│ dropout_2 (\u001b[38;5;33mDropout\u001b[0m)             │ (\u001b[38;5;45mNone\u001b[0m, \u001b[38;5;34m280\u001b[0m, \u001b[38;5;34m130\u001b[0m)       │             \u001b[38;5;34m0\u001b[0m │\n",
       "├─────────────────────────────────┼────────────────────────┼───────────────┤\n",
       "│ lstm_3 (\u001b[38;5;33mLSTM\u001b[0m)                   │ (\u001b[38;5;45mNone\u001b[0m, \u001b[38;5;34m130\u001b[0m)            │       \u001b[38;5;34m135,720\u001b[0m │\n",
       "├─────────────────────────────────┼────────────────────────┼───────────────┤\n",
       "│ dropout_3 (\u001b[38;5;33mDropout\u001b[0m)             │ (\u001b[38;5;45mNone\u001b[0m, \u001b[38;5;34m130\u001b[0m)            │             \u001b[38;5;34m0\u001b[0m │\n",
       "├─────────────────────────────────┼────────────────────────┼───────────────┤\n",
       "│ dense (\u001b[38;5;33mDense\u001b[0m)                   │ (\u001b[38;5;45mNone\u001b[0m, \u001b[38;5;34m1\u001b[0m)              │           \u001b[38;5;34m131\u001b[0m │\n",
       "└─────────────────────────────────┴────────────────────────┴───────────────┘\n"
      ]
     },
     "metadata": {},
     "output_type": "display_data"
    },
    {
     "data": {
      "text/html": [
       "<pre style=\"white-space:pre;overflow-x:auto;line-height:normal;font-family:Menlo,'DejaVu Sans Mono',consolas,'Courier New',monospace\"><span style=\"font-weight: bold\"> Total params: </span><span style=\"color: #00af00; text-decoration-color: #00af00\">478,531</span> (1.83 MB)\n",
       "</pre>\n"
      ],
      "text/plain": [
       "\u001b[1m Total params: \u001b[0m\u001b[38;5;34m478,531\u001b[0m (1.83 MB)\n"
      ]
     },
     "metadata": {},
     "output_type": "display_data"
    },
    {
     "data": {
      "text/html": [
       "<pre style=\"white-space:pre;overflow-x:auto;line-height:normal;font-family:Menlo,'DejaVu Sans Mono',consolas,'Courier New',monospace\"><span style=\"font-weight: bold\"> Trainable params: </span><span style=\"color: #00af00; text-decoration-color: #00af00\">478,531</span> (1.83 MB)\n",
       "</pre>\n"
      ],
      "text/plain": [
       "\u001b[1m Trainable params: \u001b[0m\u001b[38;5;34m478,531\u001b[0m (1.83 MB)\n"
      ]
     },
     "metadata": {},
     "output_type": "display_data"
    },
    {
     "data": {
      "text/html": [
       "<pre style=\"white-space:pre;overflow-x:auto;line-height:normal;font-family:Menlo,'DejaVu Sans Mono',consolas,'Courier New',monospace\"><span style=\"font-weight: bold\"> Non-trainable params: </span><span style=\"color: #00af00; text-decoration-color: #00af00\">0</span> (0.00 B)\n",
       "</pre>\n"
      ],
      "text/plain": [
       "\u001b[1m Non-trainable params: \u001b[0m\u001b[38;5;34m0\u001b[0m (0.00 B)\n"
      ]
     },
     "metadata": {},
     "output_type": "display_data"
    }
   ],
   "source": [
    "model.summary()"
   ]
  },
  {
   "cell_type": "markdown",
   "metadata": {
    "id": "y7rZmZjkwNyQ"
   },
   "source": [
    "**6.3 Compiling the RNN**"
   ]
  },
  {
   "cell_type": "code",
   "execution_count": 82,
   "metadata": {
    "id": "ZLX1eud0kGKT"
   },
   "outputs": [],
   "source": [
    "model.compile( optimizer='rmsprop', loss = 'mean_squared_error')"
   ]
  },
  {
   "cell_type": "markdown",
   "metadata": {
    "id": "du-MtS5LwR3K"
   },
   "source": [
    "## 7.Model Fitting and Prediction "
   ]
  },
  {
   "cell_type": "markdown",
   "metadata": {
    "id": "fMM-Mob6wgVV"
   },
   "source": [
    "**7.1 Fitting model on Train_Set and validating with Test_set**"
   ]
  },
  {
   "cell_type": "code",
   "execution_count": 88,
   "metadata": {
    "colab": {
     "base_uri": "https://localhost:8080/"
    },
    "id": "i9HxxP7pm1qB",
    "outputId": "7d3cab1d-f520-4fb1-dfb4-159f93164b6a",
    "scrolled": true
   },
   "outputs": [
    {
     "name": "stdout",
     "output_type": "stream",
     "text": [
      "Epoch 1/15\n"
     ]
    },
    {
     "name": "stderr",
     "output_type": "stream",
     "text": [
      "C:\\Users\\cialg\\anaconda3\\Lib\\site-packages\\keras\\src\\trainers\\data_adapters\\py_dataset_adapter.py:122: UserWarning: Your `PyDataset` class should call `super().__init__(**kwargs)` in its constructor. `**kwargs` can include `workers`, `use_multiprocessing`, `max_queue_size`. Do not pass these arguments to `fit()`, as they will be ignored.\n",
      "  self._warn_if_super_not_called()\n"
     ]
    },
    {
     "name": "stdout",
     "output_type": "stream",
     "text": [
      "\u001b[1m423/423\u001b[0m \u001b[32m━━━━━━━━━━━━━━━━━━━━\u001b[0m\u001b[37m\u001b[0m \u001b[1m565s\u001b[0m 1s/step - loss: 0.0177 - val_loss: 0.0067\n",
      "Epoch 2/15\n",
      "\u001b[1m423/423\u001b[0m \u001b[32m━━━━━━━━━━━━━━━━━━━━\u001b[0m\u001b[37m\u001b[0m \u001b[1m393s\u001b[0m 930ms/step - loss: 0.0108 - val_loss: 0.0066\n",
      "Epoch 3/15\n",
      "\u001b[1m423/423\u001b[0m \u001b[32m━━━━━━━━━━━━━━━━━━━━\u001b[0m\u001b[37m\u001b[0m \u001b[1m415s\u001b[0m 981ms/step - loss: 0.0101 - val_loss: 0.0061\n",
      "Epoch 4/15\n",
      "\u001b[1m423/423\u001b[0m \u001b[32m━━━━━━━━━━━━━━━━━━━━\u001b[0m\u001b[37m\u001b[0m \u001b[1m415s\u001b[0m 981ms/step - loss: 0.0098 - val_loss: 0.0058\n",
      "Epoch 5/15\n",
      "\u001b[1m423/423\u001b[0m \u001b[32m━━━━━━━━━━━━━━━━━━━━\u001b[0m\u001b[37m\u001b[0m \u001b[1m418s\u001b[0m 988ms/step - loss: 0.0096 - val_loss: 0.0057\n",
      "Epoch 6/15\n",
      "\u001b[1m423/423\u001b[0m \u001b[32m━━━━━━━━━━━━━━━━━━━━\u001b[0m\u001b[37m\u001b[0m \u001b[1m429s\u001b[0m 1s/step - loss: 0.0093 - val_loss: 0.0056\n",
      "Epoch 7/15\n",
      "\u001b[1m423/423\u001b[0m \u001b[32m━━━━━━━━━━━━━━━━━━━━\u001b[0m\u001b[37m\u001b[0m \u001b[1m407s\u001b[0m 963ms/step - loss: 0.0088 - val_loss: 0.0053\n",
      "Epoch 8/15\n",
      "\u001b[1m423/423\u001b[0m \u001b[32m━━━━━━━━━━━━━━━━━━━━\u001b[0m\u001b[37m\u001b[0m \u001b[1m420s\u001b[0m 992ms/step - loss: 0.0083 - val_loss: 0.0050\n",
      "Epoch 9/15\n",
      "\u001b[1m423/423\u001b[0m \u001b[32m━━━━━━━━━━━━━━━━━━━━\u001b[0m\u001b[37m\u001b[0m \u001b[1m414s\u001b[0m 979ms/step - loss: 0.0076 - val_loss: 0.0048\n",
      "Epoch 10/15\n",
      "\u001b[1m423/423\u001b[0m \u001b[32m━━━━━━━━━━━━━━━━━━━━\u001b[0m\u001b[37m\u001b[0m \u001b[1m421s\u001b[0m 995ms/step - loss: 0.0069 - val_loss: 0.0044\n",
      "Epoch 11/15\n",
      "\u001b[1m423/423\u001b[0m \u001b[32m━━━━━━━━━━━━━━━━━━━━\u001b[0m\u001b[37m\u001b[0m \u001b[1m535s\u001b[0m 1s/step - loss: 0.0064 - val_loss: 0.0042\n",
      "Epoch 12/15\n",
      "\u001b[1m423/423\u001b[0m \u001b[32m━━━━━━━━━━━━━━━━━━━━\u001b[0m\u001b[37m\u001b[0m \u001b[1m571s\u001b[0m 1s/step - loss: 0.0061 - val_loss: 0.0039\n",
      "Epoch 13/15\n",
      "\u001b[1m423/423\u001b[0m \u001b[32m━━━━━━━━━━━━━━━━━━━━\u001b[0m\u001b[37m\u001b[0m \u001b[1m615s\u001b[0m 1s/step - loss: 0.0057 - val_loss: 0.0037\n",
      "Epoch 14/15\n",
      "\u001b[1m423/423\u001b[0m \u001b[32m━━━━━━━━━━━━━━━━━━━━\u001b[0m\u001b[37m\u001b[0m \u001b[1m425s\u001b[0m 1s/step - loss: 0.0054 - val_loss: 0.0036\n",
      "Epoch 15/15\n",
      "\u001b[1m423/423\u001b[0m \u001b[32m━━━━━━━━━━━━━━━━━━━━\u001b[0m\u001b[37m\u001b[0m \u001b[1m495s\u001b[0m 1s/step - loss: 0.0053 - val_loss: 0.0035\n"
     ]
    },
    {
     "data": {
      "text/plain": [
       "<keras.src.callbacks.history.History at 0x187f4a5ed90>"
      ]
     },
     "execution_count": 88,
     "metadata": {},
     "output_type": "execute_result"
    }
   ],
   "source": [
    "model.fit(Train_set,epochs=15,validation_data= Test_set, shuffle= False)"
   ]
  },
  {
   "cell_type": "markdown",
   "metadata": {
    "id": "TfJRRUhWw79Q"
   },
   "source": [
    "**7.2 Predicting Values for Test_set**"
   ]
  },
  {
   "cell_type": "code",
   "execution_count": 93,
   "metadata": {
    "colab": {
     "base_uri": "https://localhost:8080/"
    },
    "id": "UDPD3Si6sYzm",
    "outputId": "45d53b87-03fb-4757-be9e-e9c8bda293e5"
   },
   "outputs": [
    {
     "name": "stdout",
     "output_type": "stream",
     "text": [
      "\u001b[1m177/177\u001b[0m \u001b[32m━━━━━━━━━━━━━━━━━━━━\u001b[0m\u001b[37m\u001b[0m \u001b[1m54s\u001b[0m 297ms/step\n"
     ]
    }
   ],
   "source": [
    "predictions = model.predict(Test_set)\n"
   ]
  },
  {
   "cell_type": "code",
   "execution_count": 95,
   "metadata": {
    "colab": {
     "base_uri": "https://localhost:8080/"
    },
    "id": "Pt40eyB_s4jm",
    "outputId": "9e0e7134-15c1-4a35-d023-596f6d1b0f7a"
   },
   "outputs": [
    {
     "data": {
      "text/plain": [
       "(5641, 1)"
      ]
     },
     "execution_count": 95,
     "metadata": {},
     "output_type": "execute_result"
    }
   ],
   "source": [
    "predictions.shape"
   ]
  },
  {
   "cell_type": "code",
   "execution_count": 97,
   "metadata": {
    "colab": {
     "base_uri": "https://localhost:8080/"
    },
    "id": "60tK7V0Rs8QE",
    "outputId": "97e3dcc5-1750-48da-abeb-9767c7fb9037"
   },
   "outputs": [
    {
     "data": {
      "text/plain": [
       "(5921,)"
      ]
     },
     "execution_count": 97,
     "metadata": {},
     "output_type": "execute_result"
    }
   ],
   "source": [
    "y_test.shape"
   ]
  },
  {
   "cell_type": "code",
   "execution_count": 99,
   "metadata": {
    "colab": {
     "base_uri": "https://localhost:8080/",
     "height": 204
    },
    "id": "i5nviv7rORN3",
    "outputId": "4e45fd10-3aab-4b31-8951-d1cdcb86ebe5"
   },
   "outputs": [
    {
     "data": {
      "text/html": [
       "<div>\n",
       "<style scoped>\n",
       "    .dataframe tbody tr th:only-of-type {\n",
       "        vertical-align: middle;\n",
       "    }\n",
       "\n",
       "    .dataframe tbody tr th {\n",
       "        vertical-align: top;\n",
       "    }\n",
       "\n",
       "    .dataframe thead th {\n",
       "        text-align: right;\n",
       "    }\n",
       "</style>\n",
       "<table border=\"1\" class=\"dataframe\">\n",
       "  <thead>\n",
       "    <tr style=\"text-align: right;\">\n",
       "      <th></th>\n",
       "      <th>0</th>\n",
       "    </tr>\n",
       "  </thead>\n",
       "  <tbody>\n",
       "    <tr>\n",
       "      <th>0</th>\n",
       "      <td>0.078339</td>\n",
       "    </tr>\n",
       "    <tr>\n",
       "      <th>1</th>\n",
       "      <td>0.067321</td>\n",
       "    </tr>\n",
       "    <tr>\n",
       "      <th>2</th>\n",
       "      <td>0.078522</td>\n",
       "    </tr>\n",
       "    <tr>\n",
       "      <th>3</th>\n",
       "      <td>0.062286</td>\n",
       "    </tr>\n",
       "    <tr>\n",
       "      <th>4</th>\n",
       "      <td>0.061031</td>\n",
       "    </tr>\n",
       "  </tbody>\n",
       "</table>\n",
       "</div>"
      ],
      "text/plain": [
       "          0\n",
       "0  0.078339\n",
       "1  0.067321\n",
       "2  0.078522\n",
       "3  0.062286\n",
       "4  0.061031"
      ]
     },
     "execution_count": 99,
     "metadata": {},
     "output_type": "execute_result"
    }
   ],
   "source": [
    "pred_df = pd.DataFrame(predictions)\n",
    "pred_df.head()"
   ]
  },
  {
   "cell_type": "code",
   "execution_count": 101,
   "metadata": {
    "colab": {
     "base_uri": "https://localhost:8080/",
     "height": 204
    },
    "id": "NYTJDma2TdYc",
    "outputId": "a3e6f8e8-0b07-4ae7-ec89-36b0905256d6"
   },
   "outputs": [
    {
     "data": {
      "text/html": [
       "<div>\n",
       "<style scoped>\n",
       "    .dataframe tbody tr th:only-of-type {\n",
       "        vertical-align: middle;\n",
       "    }\n",
       "\n",
       "    .dataframe tbody tr th {\n",
       "        vertical-align: top;\n",
       "    }\n",
       "\n",
       "    .dataframe thead th {\n",
       "        text-align: right;\n",
       "    }\n",
       "</style>\n",
       "<table border=\"1\" class=\"dataframe\">\n",
       "  <thead>\n",
       "    <tr style=\"text-align: right;\">\n",
       "      <th></th>\n",
       "      <th>0</th>\n",
       "    </tr>\n",
       "  </thead>\n",
       "  <tbody>\n",
       "    <tr>\n",
       "      <th>0</th>\n",
       "      <td>0.028037</td>\n",
       "    </tr>\n",
       "    <tr>\n",
       "      <th>1</th>\n",
       "      <td>0.046729</td>\n",
       "    </tr>\n",
       "    <tr>\n",
       "      <th>2</th>\n",
       "      <td>0.018692</td>\n",
       "    </tr>\n",
       "    <tr>\n",
       "      <th>3</th>\n",
       "      <td>0.018692</td>\n",
       "    </tr>\n",
       "    <tr>\n",
       "      <th>4</th>\n",
       "      <td>0.028037</td>\n",
       "    </tr>\n",
       "  </tbody>\n",
       "</table>\n",
       "</div>"
      ],
      "text/plain": [
       "          0\n",
       "0  0.028037\n",
       "1  0.046729\n",
       "2  0.018692\n",
       "3  0.018692\n",
       "4  0.028037"
      ]
     },
     "execution_count": 101,
     "metadata": {},
     "output_type": "execute_result"
    }
   ],
   "source": [
    "y_test_df = pd.DataFrame(y_test[280:])\n",
    "y_test_df.head()\n"
   ]
  },
  {
   "cell_type": "code",
   "execution_count": 103,
   "metadata": {
    "colab": {
     "base_uri": "https://localhost:8080/",
     "height": 204
    },
    "id": "QTvrqCp8Of-O",
    "outputId": "56634f9a-8050-4447-add4-aa38f53b7f3c"
   },
   "outputs": [
    {
     "data": {
      "text/html": [
       "<div>\n",
       "<style scoped>\n",
       "    .dataframe tbody tr th:only-of-type {\n",
       "        vertical-align: middle;\n",
       "    }\n",
       "\n",
       "    .dataframe tbody tr th {\n",
       "        vertical-align: top;\n",
       "    }\n",
       "\n",
       "    .dataframe thead th {\n",
       "        text-align: right;\n",
       "    }\n",
       "</style>\n",
       "<table border=\"1\" class=\"dataframe\">\n",
       "  <thead>\n",
       "    <tr style=\"text-align: right;\">\n",
       "      <th></th>\n",
       "      <th>0</th>\n",
       "      <th>1</th>\n",
       "      <th>2</th>\n",
       "      <th>3</th>\n",
       "      <th>4</th>\n",
       "    </tr>\n",
       "  </thead>\n",
       "  <tbody>\n",
       "    <tr>\n",
       "      <th>0</th>\n",
       "      <td>0.535023</td>\n",
       "      <td>0.238785</td>\n",
       "      <td>0.762791</td>\n",
       "      <td>0.394737</td>\n",
       "      <td>0.285714</td>\n",
       "    </tr>\n",
       "    <tr>\n",
       "      <th>1</th>\n",
       "      <td>0.527983</td>\n",
       "      <td>0.235758</td>\n",
       "      <td>0.763178</td>\n",
       "      <td>0.392544</td>\n",
       "      <td>0.285714</td>\n",
       "    </tr>\n",
       "    <tr>\n",
       "      <th>2</th>\n",
       "      <td>0.527983</td>\n",
       "      <td>0.234107</td>\n",
       "      <td>0.763566</td>\n",
       "      <td>0.390351</td>\n",
       "      <td>0.285714</td>\n",
       "    </tr>\n",
       "    <tr>\n",
       "      <th>3</th>\n",
       "      <td>0.527983</td>\n",
       "      <td>0.232364</td>\n",
       "      <td>0.763953</td>\n",
       "      <td>0.388158</td>\n",
       "      <td>0.285714</td>\n",
       "    </tr>\n",
       "    <tr>\n",
       "      <th>4</th>\n",
       "      <td>0.527983</td>\n",
       "      <td>0.230529</td>\n",
       "      <td>0.764341</td>\n",
       "      <td>0.385965</td>\n",
       "      <td>0.285714</td>\n",
       "    </tr>\n",
       "  </tbody>\n",
       "</table>\n",
       "</div>"
      ],
      "text/plain": [
       "          0         1         2         3         4\n",
       "0  0.535023  0.238785  0.762791  0.394737  0.285714\n",
       "1  0.527983  0.235758  0.763178  0.392544  0.285714\n",
       "2  0.527983  0.234107  0.763566  0.390351  0.285714\n",
       "3  0.527983  0.232364  0.763953  0.388158  0.285714\n",
       "4  0.527983  0.230529  0.764341  0.385965  0.285714"
      ]
     },
     "execution_count": 103,
     "metadata": {},
     "output_type": "execute_result"
    }
   ],
   "source": [
    "test_df = pd.DataFrame(X_test[:,1:][Time_stamps:])\n",
    "test_df.head()"
   ]
  },
  {
   "cell_type": "code",
   "execution_count": 105,
   "metadata": {
    "colab": {
     "base_uri": "https://localhost:8080/"
    },
    "id": "Ga4a1RejPBAc",
    "outputId": "294cf6b5-b9d4-4af6-c18f-57eef7181f37"
   },
   "outputs": [
    {
     "data": {
      "text/plain": [
       "(5641, 5)"
      ]
     },
     "execution_count": 105,
     "metadata": {},
     "output_type": "execute_result"
    }
   ],
   "source": [
    "test_df.shape"
   ]
  },
  {
   "cell_type": "code",
   "execution_count": 107,
   "metadata": {
    "colab": {
     "base_uri": "https://localhost:8080/",
     "height": 204
    },
    "id": "W1d7Zi8zPNH1",
    "outputId": "30b7d64b-7abf-4b81-c659-b7ed096f244f"
   },
   "outputs": [
    {
     "data": {
      "text/html": [
       "<div>\n",
       "<style scoped>\n",
       "    .dataframe tbody tr th:only-of-type {\n",
       "        vertical-align: middle;\n",
       "    }\n",
       "\n",
       "    .dataframe tbody tr th {\n",
       "        vertical-align: top;\n",
       "    }\n",
       "\n",
       "    .dataframe thead th {\n",
       "        text-align: right;\n",
       "    }\n",
       "</style>\n",
       "<table border=\"1\" class=\"dataframe\">\n",
       "  <thead>\n",
       "    <tr style=\"text-align: right;\">\n",
       "      <th></th>\n",
       "      <th>0</th>\n",
       "      <th>0</th>\n",
       "      <th>1</th>\n",
       "      <th>2</th>\n",
       "      <th>3</th>\n",
       "      <th>4</th>\n",
       "    </tr>\n",
       "  </thead>\n",
       "  <tbody>\n",
       "    <tr>\n",
       "      <th>0</th>\n",
       "      <td>0.078339</td>\n",
       "      <td>0.535023</td>\n",
       "      <td>0.238785</td>\n",
       "      <td>0.762791</td>\n",
       "      <td>0.394737</td>\n",
       "      <td>0.285714</td>\n",
       "    </tr>\n",
       "    <tr>\n",
       "      <th>1</th>\n",
       "      <td>0.067321</td>\n",
       "      <td>0.527983</td>\n",
       "      <td>0.235758</td>\n",
       "      <td>0.763178</td>\n",
       "      <td>0.392544</td>\n",
       "      <td>0.285714</td>\n",
       "    </tr>\n",
       "    <tr>\n",
       "      <th>2</th>\n",
       "      <td>0.078522</td>\n",
       "      <td>0.527983</td>\n",
       "      <td>0.234107</td>\n",
       "      <td>0.763566</td>\n",
       "      <td>0.390351</td>\n",
       "      <td>0.285714</td>\n",
       "    </tr>\n",
       "    <tr>\n",
       "      <th>3</th>\n",
       "      <td>0.062286</td>\n",
       "      <td>0.527983</td>\n",
       "      <td>0.232364</td>\n",
       "      <td>0.763953</td>\n",
       "      <td>0.388158</td>\n",
       "      <td>0.285714</td>\n",
       "    </tr>\n",
       "    <tr>\n",
       "      <th>4</th>\n",
       "      <td>0.061031</td>\n",
       "      <td>0.527983</td>\n",
       "      <td>0.230529</td>\n",
       "      <td>0.764341</td>\n",
       "      <td>0.385965</td>\n",
       "      <td>0.285714</td>\n",
       "    </tr>\n",
       "  </tbody>\n",
       "</table>\n",
       "</div>"
      ],
      "text/plain": [
       "          0         0         1         2         3         4\n",
       "0  0.078339  0.535023  0.238785  0.762791  0.394737  0.285714\n",
       "1  0.067321  0.527983  0.235758  0.763178  0.392544  0.285714\n",
       "2  0.078522  0.527983  0.234107  0.763566  0.390351  0.285714\n",
       "3  0.062286  0.527983  0.232364  0.763953  0.388158  0.285714\n",
       "4  0.061031  0.527983  0.230529  0.764341  0.385965  0.285714"
      ]
     },
     "execution_count": 107,
     "metadata": {},
     "output_type": "execute_result"
    }
   ],
   "source": [
    "merged_df = pd.concat([pred_df,test_df],axis=1)\n",
    "merged_df.head()"
   ]
  },
  {
   "cell_type": "code",
   "execution_count": 109,
   "metadata": {
    "colab": {
     "base_uri": "https://localhost:8080/",
     "height": 204
    },
    "id": "G9SIiflpTxYu",
    "outputId": "2308f0b6-78fb-4b90-d69f-1cf56c858f95"
   },
   "outputs": [
    {
     "data": {
      "text/html": [
       "<div>\n",
       "<style scoped>\n",
       "    .dataframe tbody tr th:only-of-type {\n",
       "        vertical-align: middle;\n",
       "    }\n",
       "\n",
       "    .dataframe tbody tr th {\n",
       "        vertical-align: top;\n",
       "    }\n",
       "\n",
       "    .dataframe thead th {\n",
       "        text-align: right;\n",
       "    }\n",
       "</style>\n",
       "<table border=\"1\" class=\"dataframe\">\n",
       "  <thead>\n",
       "    <tr style=\"text-align: right;\">\n",
       "      <th></th>\n",
       "      <th>0</th>\n",
       "      <th>0</th>\n",
       "      <th>1</th>\n",
       "      <th>2</th>\n",
       "      <th>3</th>\n",
       "      <th>4</th>\n",
       "    </tr>\n",
       "  </thead>\n",
       "  <tbody>\n",
       "    <tr>\n",
       "      <th>0</th>\n",
       "      <td>0.028037</td>\n",
       "      <td>0.535023</td>\n",
       "      <td>0.238785</td>\n",
       "      <td>0.762791</td>\n",
       "      <td>0.394737</td>\n",
       "      <td>0.285714</td>\n",
       "    </tr>\n",
       "    <tr>\n",
       "      <th>1</th>\n",
       "      <td>0.046729</td>\n",
       "      <td>0.527983</td>\n",
       "      <td>0.235758</td>\n",
       "      <td>0.763178</td>\n",
       "      <td>0.392544</td>\n",
       "      <td>0.285714</td>\n",
       "    </tr>\n",
       "    <tr>\n",
       "      <th>2</th>\n",
       "      <td>0.018692</td>\n",
       "      <td>0.527983</td>\n",
       "      <td>0.234107</td>\n",
       "      <td>0.763566</td>\n",
       "      <td>0.390351</td>\n",
       "      <td>0.285714</td>\n",
       "    </tr>\n",
       "    <tr>\n",
       "      <th>3</th>\n",
       "      <td>0.018692</td>\n",
       "      <td>0.527983</td>\n",
       "      <td>0.232364</td>\n",
       "      <td>0.763953</td>\n",
       "      <td>0.388158</td>\n",
       "      <td>0.285714</td>\n",
       "    </tr>\n",
       "    <tr>\n",
       "      <th>4</th>\n",
       "      <td>0.028037</td>\n",
       "      <td>0.527983</td>\n",
       "      <td>0.230529</td>\n",
       "      <td>0.764341</td>\n",
       "      <td>0.385965</td>\n",
       "      <td>0.285714</td>\n",
       "    </tr>\n",
       "  </tbody>\n",
       "</table>\n",
       "</div>"
      ],
      "text/plain": [
       "          0         0         1         2         3         4\n",
       "0  0.028037  0.535023  0.238785  0.762791  0.394737  0.285714\n",
       "1  0.046729  0.527983  0.235758  0.763178  0.392544  0.285714\n",
       "2  0.018692  0.527983  0.234107  0.763566  0.390351  0.285714\n",
       "3  0.018692  0.527983  0.232364  0.763953  0.388158  0.285714\n",
       "4  0.028037  0.527983  0.230529  0.764341  0.385965  0.285714"
      ]
     },
     "execution_count": 109,
     "metadata": {},
     "output_type": "execute_result"
    }
   ],
   "source": [
    "merged_df2 = pd.concat([y_test_df,test_df],axis=1)\n",
    "merged_df2.head()"
   ]
  },
  {
   "cell_type": "code",
   "execution_count": 111,
   "metadata": {
    "colab": {
     "base_uri": "https://localhost:8080/"
    },
    "id": "1biH4Ud4PzXu",
    "outputId": "1d945788-f3b5-4d9f-8e41-e304728010b5"
   },
   "outputs": [
    {
     "data": {
      "text/plain": [
       "array([[ 93.82296443,  21.85666667,  35.7       , 762.1       ,\n",
       "         54.        ,   4.        ],\n",
       "       [ 82.03303419,  21.79      ,  35.59      , 762.1166667 ,\n",
       "         53.83333333,   4.        ],\n",
       "       [ 94.0184249 ,  21.79      ,  35.53      , 762.1333333 ,\n",
       "         53.66666667,   4.        ],\n",
       "       ...,\n",
       "       [ 70.54490056,  25.5       ,  46.59666667, 755.2       ,\n",
       "         56.33333333,   3.66666667],\n",
       "       [183.88007984,  25.5       ,  46.99      , 755.2       ,\n",
       "         56.66666667,   3.83333333],\n",
       "       [281.11809939,  25.5       ,  46.6       , 755.2       ,\n",
       "         57.        ,   4.        ]])"
      ]
     },
     "execution_count": 111,
     "metadata": {},
     "output_type": "execute_result"
    }
   ],
   "source": [
    "merged_df = sc.inverse_transform(merged_df)\n",
    "merged_df"
   ]
  },
  {
   "cell_type": "code",
   "execution_count": 113,
   "metadata": {
    "colab": {
     "base_uri": "https://localhost:8080/"
    },
    "id": "Zy7DHadgT_Mq",
    "outputId": "7e5cb813-a293-4643-fabd-d4bfbccc51b1"
   },
   "outputs": [
    {
     "data": {
      "text/plain": [
       "array([[ 40.        ,  21.85666667,  35.7       , 762.1       ,\n",
       "         54.        ,   4.        ],\n",
       "       [ 60.        ,  21.79      ,  35.59      , 762.1166667 ,\n",
       "         53.83333333,   4.        ],\n",
       "       [ 30.        ,  21.79      ,  35.53      , 762.1333333 ,\n",
       "         53.66666667,   4.        ],\n",
       "       ...,\n",
       "       [270.        ,  25.5       ,  46.59666667, 755.2       ,\n",
       "         56.33333333,   3.66666667],\n",
       "       [420.        ,  25.5       ,  46.99      , 755.2       ,\n",
       "         56.66666667,   3.83333333],\n",
       "       [430.        ,  25.5       ,  46.6       , 755.2       ,\n",
       "         57.        ,   4.        ]])"
      ]
     },
     "execution_count": 113,
     "metadata": {},
     "output_type": "execute_result"
    }
   ],
   "source": [
    "merged_df2 = sc.inverse_transform(merged_df2)\n",
    "merged_df2"
   ]
  },
  {
   "cell_type": "code",
   "execution_count": 115,
   "metadata": {
    "colab": {
     "base_uri": "https://localhost:8080/",
     "height": 204
    },
    "id": "m2UwcD_IRwOU",
    "outputId": "2c244497-1742-4a73-b532-81234f142cd9"
   },
   "outputs": [
    {
     "data": {
      "text/html": [
       "<div>\n",
       "<style scoped>\n",
       "    .dataframe tbody tr th:only-of-type {\n",
       "        vertical-align: middle;\n",
       "    }\n",
       "\n",
       "    .dataframe tbody tr th {\n",
       "        vertical-align: top;\n",
       "    }\n",
       "\n",
       "    .dataframe thead th {\n",
       "        text-align: right;\n",
       "    }\n",
       "</style>\n",
       "<table border=\"1\" class=\"dataframe\">\n",
       "  <thead>\n",
       "    <tr style=\"text-align: right;\">\n",
       "      <th></th>\n",
       "      <th>Predicted_value</th>\n",
       "      <th>T1</th>\n",
       "      <th>RH_1</th>\n",
       "      <th>Press_mm_hg</th>\n",
       "      <th>RH_out</th>\n",
       "      <th>Windspeed</th>\n",
       "    </tr>\n",
       "  </thead>\n",
       "  <tbody>\n",
       "    <tr>\n",
       "      <th>0</th>\n",
       "      <td>93.822964</td>\n",
       "      <td>21.856667</td>\n",
       "      <td>35.700000</td>\n",
       "      <td>762.100000</td>\n",
       "      <td>54.000000</td>\n",
       "      <td>4.0</td>\n",
       "    </tr>\n",
       "    <tr>\n",
       "      <th>1</th>\n",
       "      <td>82.033034</td>\n",
       "      <td>21.790000</td>\n",
       "      <td>35.590000</td>\n",
       "      <td>762.116667</td>\n",
       "      <td>53.833333</td>\n",
       "      <td>4.0</td>\n",
       "    </tr>\n",
       "    <tr>\n",
       "      <th>2</th>\n",
       "      <td>94.018425</td>\n",
       "      <td>21.790000</td>\n",
       "      <td>35.530000</td>\n",
       "      <td>762.133333</td>\n",
       "      <td>53.666667</td>\n",
       "      <td>4.0</td>\n",
       "    </tr>\n",
       "    <tr>\n",
       "      <th>3</th>\n",
       "      <td>76.646168</td>\n",
       "      <td>21.790000</td>\n",
       "      <td>35.466667</td>\n",
       "      <td>762.150000</td>\n",
       "      <td>53.500000</td>\n",
       "      <td>4.0</td>\n",
       "    </tr>\n",
       "    <tr>\n",
       "      <th>4</th>\n",
       "      <td>75.302930</td>\n",
       "      <td>21.790000</td>\n",
       "      <td>35.400000</td>\n",
       "      <td>762.166667</td>\n",
       "      <td>53.333333</td>\n",
       "      <td>4.0</td>\n",
       "    </tr>\n",
       "  </tbody>\n",
       "</table>\n",
       "</div>"
      ],
      "text/plain": [
       "   Predicted_value         T1       RH_1  Press_mm_hg     RH_out  Windspeed\n",
       "0        93.822964  21.856667  35.700000   762.100000  54.000000        4.0\n",
       "1        82.033034  21.790000  35.590000   762.116667  53.833333        4.0\n",
       "2        94.018425  21.790000  35.530000   762.133333  53.666667        4.0\n",
       "3        76.646168  21.790000  35.466667   762.150000  53.500000        4.0\n",
       "4        75.302930  21.790000  35.400000   762.166667  53.333333        4.0"
      ]
     },
     "execution_count": 115,
     "metadata": {},
     "output_type": "execute_result"
    }
   ],
   "source": [
    "Final_df = pd.DataFrame(merged_df)\n",
    "Final_df.columns = ['Predicted_value','T1', 'RH_1','Press_mm_hg', 'RH_out', 'Windspeed']\n",
    "Final_df.head()"
   ]
  },
  {
   "cell_type": "code",
   "execution_count": 117,
   "metadata": {
    "colab": {
     "base_uri": "https://localhost:8080/",
     "height": 204
    },
    "id": "NN_R4evkSNzG",
    "outputId": "92e0c1a6-455f-43c9-89ec-09eed6497f9b"
   },
   "outputs": [
    {
     "data": {
      "text/html": [
       "<div>\n",
       "<style scoped>\n",
       "    .dataframe tbody tr th:only-of-type {\n",
       "        vertical-align: middle;\n",
       "    }\n",
       "\n",
       "    .dataframe tbody tr th {\n",
       "        vertical-align: top;\n",
       "    }\n",
       "\n",
       "    .dataframe thead th {\n",
       "        text-align: right;\n",
       "    }\n",
       "</style>\n",
       "<table border=\"1\" class=\"dataframe\">\n",
       "  <thead>\n",
       "    <tr style=\"text-align: right;\">\n",
       "      <th></th>\n",
       "      <th>Actual_value</th>\n",
       "      <th>T1</th>\n",
       "      <th>RH_1</th>\n",
       "      <th>Press_mm_hg</th>\n",
       "      <th>RH_out</th>\n",
       "      <th>Windspeed</th>\n",
       "    </tr>\n",
       "  </thead>\n",
       "  <tbody>\n",
       "    <tr>\n",
       "      <th>0</th>\n",
       "      <td>40.0</td>\n",
       "      <td>21.856667</td>\n",
       "      <td>35.700000</td>\n",
       "      <td>762.100000</td>\n",
       "      <td>54.000000</td>\n",
       "      <td>4.0</td>\n",
       "    </tr>\n",
       "    <tr>\n",
       "      <th>1</th>\n",
       "      <td>60.0</td>\n",
       "      <td>21.790000</td>\n",
       "      <td>35.590000</td>\n",
       "      <td>762.116667</td>\n",
       "      <td>53.833333</td>\n",
       "      <td>4.0</td>\n",
       "    </tr>\n",
       "    <tr>\n",
       "      <th>2</th>\n",
       "      <td>30.0</td>\n",
       "      <td>21.790000</td>\n",
       "      <td>35.530000</td>\n",
       "      <td>762.133333</td>\n",
       "      <td>53.666667</td>\n",
       "      <td>4.0</td>\n",
       "    </tr>\n",
       "    <tr>\n",
       "      <th>3</th>\n",
       "      <td>30.0</td>\n",
       "      <td>21.790000</td>\n",
       "      <td>35.466667</td>\n",
       "      <td>762.150000</td>\n",
       "      <td>53.500000</td>\n",
       "      <td>4.0</td>\n",
       "    </tr>\n",
       "    <tr>\n",
       "      <th>4</th>\n",
       "      <td>40.0</td>\n",
       "      <td>21.790000</td>\n",
       "      <td>35.400000</td>\n",
       "      <td>762.166667</td>\n",
       "      <td>53.333333</td>\n",
       "      <td>4.0</td>\n",
       "    </tr>\n",
       "  </tbody>\n",
       "</table>\n",
       "</div>"
      ],
      "text/plain": [
       "   Actual_value         T1       RH_1  Press_mm_hg     RH_out  Windspeed\n",
       "0          40.0  21.856667  35.700000   762.100000  54.000000        4.0\n",
       "1          60.0  21.790000  35.590000   762.116667  53.833333        4.0\n",
       "2          30.0  21.790000  35.530000   762.133333  53.666667        4.0\n",
       "3          30.0  21.790000  35.466667   762.150000  53.500000        4.0\n",
       "4          40.0  21.790000  35.400000   762.166667  53.333333        4.0"
      ]
     },
     "execution_count": 117,
     "metadata": {},
     "output_type": "execute_result"
    }
   ],
   "source": [
    "Actual_df = pd.DataFrame(merged_df2)\n",
    "Actual_df.columns = ['Actual_value','T1', 'RH_1','Press_mm_hg', 'RH_out', 'Windspeed']\n",
    "Actual_df.head()"
   ]
  },
  {
   "cell_type": "code",
   "execution_count": 119,
   "metadata": {
    "colab": {
     "base_uri": "https://localhost:8080/",
     "height": 204
    },
    "id": "xcT1qRS4S2aS",
    "outputId": "2a615151-acd2-48af-88db-24b000acb6b9"
   },
   "outputs": [
    {
     "data": {
      "text/html": [
       "<div>\n",
       "<style scoped>\n",
       "    .dataframe tbody tr th:only-of-type {\n",
       "        vertical-align: middle;\n",
       "    }\n",
       "\n",
       "    .dataframe tbody tr th {\n",
       "        vertical-align: top;\n",
       "    }\n",
       "\n",
       "    .dataframe thead th {\n",
       "        text-align: right;\n",
       "    }\n",
       "</style>\n",
       "<table border=\"1\" class=\"dataframe\">\n",
       "  <thead>\n",
       "    <tr style=\"text-align: right;\">\n",
       "      <th></th>\n",
       "      <th>Predicted_value</th>\n",
       "      <th>T1</th>\n",
       "      <th>RH_1</th>\n",
       "      <th>Press_mm_hg</th>\n",
       "      <th>RH_out</th>\n",
       "      <th>Windspeed</th>\n",
       "      <th>Actual_Value</th>\n",
       "    </tr>\n",
       "  </thead>\n",
       "  <tbody>\n",
       "    <tr>\n",
       "      <th>0</th>\n",
       "      <td>93.822964</td>\n",
       "      <td>21.856667</td>\n",
       "      <td>35.700000</td>\n",
       "      <td>762.100000</td>\n",
       "      <td>54.000000</td>\n",
       "      <td>4.0</td>\n",
       "      <td>40.0</td>\n",
       "    </tr>\n",
       "    <tr>\n",
       "      <th>1</th>\n",
       "      <td>82.033034</td>\n",
       "      <td>21.790000</td>\n",
       "      <td>35.590000</td>\n",
       "      <td>762.116667</td>\n",
       "      <td>53.833333</td>\n",
       "      <td>4.0</td>\n",
       "      <td>60.0</td>\n",
       "    </tr>\n",
       "    <tr>\n",
       "      <th>2</th>\n",
       "      <td>94.018425</td>\n",
       "      <td>21.790000</td>\n",
       "      <td>35.530000</td>\n",
       "      <td>762.133333</td>\n",
       "      <td>53.666667</td>\n",
       "      <td>4.0</td>\n",
       "      <td>30.0</td>\n",
       "    </tr>\n",
       "    <tr>\n",
       "      <th>3</th>\n",
       "      <td>76.646168</td>\n",
       "      <td>21.790000</td>\n",
       "      <td>35.466667</td>\n",
       "      <td>762.150000</td>\n",
       "      <td>53.500000</td>\n",
       "      <td>4.0</td>\n",
       "      <td>30.0</td>\n",
       "    </tr>\n",
       "    <tr>\n",
       "      <th>4</th>\n",
       "      <td>75.302930</td>\n",
       "      <td>21.790000</td>\n",
       "      <td>35.400000</td>\n",
       "      <td>762.166667</td>\n",
       "      <td>53.333333</td>\n",
       "      <td>4.0</td>\n",
       "      <td>40.0</td>\n",
       "    </tr>\n",
       "  </tbody>\n",
       "</table>\n",
       "</div>"
      ],
      "text/plain": [
       "   Predicted_value         T1       RH_1  Press_mm_hg     RH_out  Windspeed  \\\n",
       "0        93.822964  21.856667  35.700000   762.100000  54.000000        4.0   \n",
       "1        82.033034  21.790000  35.590000   762.116667  53.833333        4.0   \n",
       "2        94.018425  21.790000  35.530000   762.133333  53.666667        4.0   \n",
       "3        76.646168  21.790000  35.466667   762.150000  53.500000        4.0   \n",
       "4        75.302930  21.790000  35.400000   762.166667  53.333333        4.0   \n",
       "\n",
       "   Actual_Value  \n",
       "0          40.0  \n",
       "1          60.0  \n",
       "2          30.0  \n",
       "3          30.0  \n",
       "4          40.0  "
      ]
     },
     "execution_count": 119,
     "metadata": {},
     "output_type": "execute_result"
    }
   ],
   "source": [
    "Final_df['Actual_Value'] = Actual_df.Actual_value\n",
    "Final_df.head()"
   ]
  },
  {
   "cell_type": "markdown",
   "metadata": {
    "id": "VYVMMi-txayx"
   },
   "source": [
    "**7.3 Plotting Predicted Value against Actual value of Energy consumtion**"
   ]
  },
  {
   "cell_type": "code",
   "execution_count": 122,
   "metadata": {
    "colab": {
     "base_uri": "https://localhost:8080/",
     "height": 592
    },
    "id": "S0WHPHiSUsQt",
    "outputId": "b6cde8d6-f148-44d2-9c26-e0706a2ee25a"
   },
   "outputs": [
    {
     "data": {
      "image/png": "[encoded data removed]",
      "text/plain": [
       "<Figure size 1200x1000 with 1 Axes>"
      ]
     },
     "metadata": {},
     "output_type": "display_data"
    }
   ],
   "source": [
    "plt.figure(figsize=(12,10))\n",
    "plt.plot(Final_df.Actual_Value, label = \"Actual Value\")\n",
    "plt.plot(Final_df.Predicted_value, label = \"Predicted Value\")\n",
    "plt.legend()\n",
    "plt.show()"
   ]
  },
  {
   "cell_type": "code",
   "execution_count": null,
   "metadata": {},
   "outputs": [],
   "source": []
  }
 ],
 "metadata": {
  "accelerator": "GPU",
  "colab": {
   "name": "EnergyConsumption.ipynb",
   "provenance": []
  },
  "kernelspec": {
   "display_name": "Python 3 (ipykernel)",
   "language": "python",
   "name": "python3"
  },
  "language_info": {
   "codemirror_mode": {
    "name": "ipython",
    "version": 3
   },
   "file_extension": ".py",
   "mimetype": "text/x-python",
   "name": "python",
   "nbconvert_exporter": "python",
   "pygments_lexer": "ipython3",
   "version": "3.11.9"
  }
 },
 "nbformat": 4,
 "nbformat_minor": 4
}
